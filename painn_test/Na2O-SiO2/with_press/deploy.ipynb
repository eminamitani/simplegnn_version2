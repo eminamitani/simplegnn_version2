{
 "cells": [
  {
   "cell_type": "markdown",
   "metadata": {},
   "source": [
    "edamame MDを実行するためのDeploy。Edamameコードはエネルギーと力のみを今のところ使っている。あと、batchの情報を渡す仕様にはなっていない。入出力の形式を合わせるようにDeploy用のクラスを設置"
   ]
  },
  {
   "cell_type": "code",
   "execution_count": 1,
   "metadata": {},
   "outputs": [
    {
     "name": "stdout",
     "output_type": "stream",
     "text": [
      "saved deployed_painn_model.pt\n"
     ]
    }
   ],
   "source": [
    "import torch\n",
    "from torch import Tensor\n",
    "from torch_geometric.data import Batch, DataLoader\n",
    "from simplegnn.painn import Painn\n",
    "\n",
    "model_path = 'painn_model.pth'\n",
    "output_path = 'deployed_painn_model.pt'\n",
    "device = torch.device(\"cpu\")\n",
    "\n",
    "# 元モデルのロード\n",
    "cutoff = 5.0\n",
    "base = Painn(natom_basis=60, n_radial=20, cutoff=cutoff, epsilon=1e-5, num_interactions=2)\n",
    "state = torch.load(model_path, map_location=device)\n",
    "base.load_state_dict(state)\n",
    "base.to(device).eval()\n",
    "\n",
    "\n",
    "from typing import NamedTuple\n",
    "import torch\n",
    "from torch import Tensor\n",
    "from simplegnn.painn import Painn\n",
    "\n",
    "\n",
    "# 戻り値型（安定のため NamedTuple）\n",
    "class PainnOut(NamedTuple):\n",
    "    energy: Tensor\n",
    "    forces: Tensor\n",
    "\n",
    "class PainnDeployNoBatch(torch.nn.Module):\n",
    "    def __init__(self, base: Painn):\n",
    "        super().__init__()\n",
    "        self.base = base\n",
    "\n",
    "    # ← C++ 側の期待に合わせて引数は 3 つだけ\n",
    "    def forward(self,\n",
    "                Z: Tensor,               # [N, ...]\n",
    "                edge_index: Tensor,      # [2, E] (long)\n",
    "                edge_weight: Tensor      # [E, 3] など\n",
    "                ) -> PainnOut:\n",
    "        # dtype を揃える\n",
    "        if edge_index.dtype != torch.long:\n",
    "            edge_index = edge_index.long()\n",
    "\n",
    "        # 単一構造用の batch を内部生成（全て 0）\n",
    "        N = int(Z.shape[0])\n",
    "        batch = torch.zeros(N, dtype=torch.long, device=Z.device)\n",
    "\n",
    "        # forward 内で autograd.grad を用いるため、edge_weight に勾配フラグ\n",
    "        edge_weight = edge_weight.detach().requires_grad_(True)\n",
    "\n",
    "        e, f, s = self.base(Z, edge_index, edge_weight, batch)\n",
    "        # --- 形の正規化 ---\n",
    "        # energy: []（0-D）へ\n",
    "        # 例: e が [1] / [B] / [B,1] / [1,] でも最終的に [] に\n",
    "        e = e.sum().squeeze()                  # -> shape: []\n",
    "        if e.dim() != 0:\n",
    "            # 念のためもう一段\n",
    "            e = e.reshape(())\n",
    "\n",
    "        # forces: [N, 3] へ（[N,3] 以外は整形）\n",
    "        f = f.reshape(-1, 3).contiguous()      # -> [N, 3]\n",
    "\n",
    "\n",
    "        return PainnOut(e, f)\n",
    "\n",
    "# --- エクスポート ---\n",
    "device = torch.device(\"cpu\")\n",
    "base = Painn(natom_basis=60, n_radial=20, cutoff=5.0, epsilon=1e-5, num_interactions=2)\n",
    "base.load_state_dict(torch.load('painn_model.pth', map_location=device))\n",
    "base.eval().to(device)\n",
    "\n",
    "deploy = PainnDeployNoBatch(base).eval().to(device)\n",
    "scripted = torch.jit.script(deploy)     # trace ではなく script\n",
    "scripted.save('deployed_painn_model.pt')\n",
    "print(\"saved deployed_painn_model.pt\")\n"
   ]
  }
 ],
 "metadata": {
  "kernelspec": {
   "display_name": "pyg",
   "language": "python",
   "name": "python3"
  },
  "language_info": {
   "codemirror_mode": {
    "name": "ipython",
    "version": 3
   },
   "file_extension": ".py",
   "mimetype": "text/x-python",
   "name": "python",
   "nbconvert_exporter": "python",
   "pygments_lexer": "ipython3",
   "version": "3.11.9"
  }
 },
 "nbformat": 4,
 "nbformat_minor": 2
}
