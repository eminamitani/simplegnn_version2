{
 "cells": [
  {
   "cell_type": "markdown",
   "metadata": {},
   "source": [
    "力とエネルギーのみで学習を行ったモデルを使って、アモルファス状態でVirialがどの程度合致するかをテストする"
   ]
  },
  {
   "cell_type": "code",
   "execution_count": 1,
   "metadata": {},
   "outputs": [],
   "source": [
    "from ase.calculators.calculator import Calculator, all_changes\n",
    "import torch\n",
    "\n",
    "from simplegnn.preprocess import RadiusInteractionGraph\n",
    "from torch_geometric.data import Data\n",
    "from torch.autograd.functional import hessian\n",
    "from torch_scatter import scatter_add\n",
    "\n",
    "def converter(atoms, cutoff):\n",
    "    x = torch.tensor(atoms.numbers, dtype=torch.long)\n",
    "\n",
    "    # 近傍情報の取得\n",
    "    edge_index, edge_weight = RadiusInteractionGraph(atoms, cutoff)\n",
    "\n",
    "    # ノードの3次元座標\n",
    "    pos = torch.tensor(atoms.positions, dtype=torch.float32)\n",
    "\n",
    "    # PyG Dataオブジェクトを構築\n",
    "    data = Data(x=x, edge_index=edge_index,edge_weight=edge_weight, pos=pos)\n",
    "\n",
    "    return data\n",
    "\n",
    "class SchNetCalculator(Calculator):\n",
    "    implemented_properties = ['energy', 'forces']\n",
    "\n",
    "    def __init__(self, model, cutoff, device='cpu'):\n",
    "        Calculator.__init__(self)\n",
    "        self.model = model.to(device)\n",
    "        self.cutoff = cutoff\n",
    "        self.device = device\n",
    "\n",
    "    def calculate(self, atoms=None, properties=['energy'],\n",
    "                  system_changes=all_changes):\n",
    "        \n",
    "        if self.calculation_required(atoms, properties):\n",
    "            self.results = {}\n",
    "            data = converter(atoms, self.cutoff)\n",
    "            data=data.to(self.device)\n",
    "            data.edge_weight.requires_grad = True\n",
    "\n",
    "            energy = self.model(data.x, data.edge_index, data.edge_weight)\n",
    "\n",
    "            diff_ij = torch.autograd.grad(energy, data.edge_weight)[0]\n",
    "            force_i = torch.zeros((len(data.x), 3), device=self.device)\n",
    "            force_j = torch.zeros((len(data.x), 3), device=self.device)\n",
    "            force_i.index_add_(0, data.edge_index[0], diff_ij)\n",
    "            force_j.index_add_(0, data.edge_index[1], -diff_ij)\n",
    "            force = force_i + force_j\n",
    "            self.results['energy'] = energy.to('cpu').item()\n",
    "            self.results['forces'] = force.to('cpu').detach().numpy()"
   ]
  },
  {
   "cell_type": "code",
   "execution_count": 2,
   "metadata": {},
   "outputs": [],
   "source": [
    "import torch\n",
    "import torch.nn as nn\n",
    "import torch.nn.functional as F\n",
    "from math import pi as PI\n",
    "import numpy as np\n",
    "\n",
    "def scatter(src, index, dim=0, dim_size=None, reduce=\"add\"):\n",
    "    if reduce not in (\"add\", \"sum\"):\n",
    "        raise NotImplementedError(\"reduce only supports add/sum in fallback\")\n",
    "    out_shape = list(src.shape)\n",
    "    if dim_size is None:\n",
    "        dim_size = int(index.max().item()) + 1 if index.numel() > 0 else 0\n",
    "    out_shape[dim] = dim_size\n",
    "    out = torch.zeros(out_shape, dtype=src.dtype, device=src.device)\n",
    "    out.index_add_(dim, index, src)\n",
    "    return out\n",
    "\n",
    "# ==============================================================\n",
    "# ガウス基底関数の計算 (RBF)\n",
    "# ==============================================================\n",
    "def gaussian_rbf(inputs, offsets, widths):\n",
    "    coeff = -0.5 / widths**2\n",
    "    diff = inputs[..., None] - offsets\n",
    "    return torch.exp(coeff * diff**2)\n",
    "\n",
    "class GaussianRBF(nn.Module):\n",
    "    def __init__(self, n_rbf, cutoff, start=0.0):\n",
    "        super().__init__()\n",
    "        self.register_buffer(\"offsets\", torch.linspace(start, cutoff, n_rbf))\n",
    "        self.register_buffer(\"widths\", torch.full((n_rbf,), cutoff / n_rbf))\n",
    "\n",
    "    def forward(self, distances):\n",
    "        return gaussian_rbf(distances, self.offsets, self.widths)\n",
    "\n",
    "# ==============================================================\n",
    "# カットオフ関数\n",
    "# ==============================================================\n",
    "def cutoff_function(distances, cutoff):\n",
    "    C = 0.5 * (torch.cos(distances * PI / cutoff) + 1.0)\n",
    "    C[distances > cutoff] = 0.0\n",
    "    return C\n",
    "\n",
    "# ==============================================================\n",
    "# 原子種を埋め込みベクトルに変換\n",
    "# ==============================================================\n",
    "class TypeEmbedding(nn.Module):\n",
    "    def __init__(self, type_num, type_dim):\n",
    "        super().__init__()\n",
    "        self.embedding = nn.Embedding(type_num, type_dim)\n",
    "\n",
    "    def forward(self, x):\n",
    "        return self.embedding(x)\n",
    "    \n",
    "class ShiftedSoftplus(nn.Module):\n",
    "    def __init__(self):\n",
    "        super().__init__()\n",
    "\n",
    "    def forward(self, x):\n",
    "        return F.softplus(x) - torch.log(torch.tensor(2.0, device=x.device))\n",
    "\n",
    "\n",
    "# ==============================================================\n",
    "# 相互作用ブロック (Interaction Block)\n",
    "class InteractionBlock(nn.Module):\n",
    "    def __init__(self, hidden_dim, num_gaussians, num_filters, cutoff):\n",
    "        super().__init__()\n",
    "        self.mlp = nn.Sequential(\n",
    "            nn.Linear(num_gaussians, num_filters),\n",
    "            ShiftedSoftplus(),\n",
    "            nn.Linear(num_filters, num_filters),\n",
    "        )\n",
    "        self.cutoff = cutoff\n",
    "        self.lin1 = nn.Linear(hidden_dim, num_filters, bias=False)\n",
    "        self.lin2 = nn.Linear(num_filters, hidden_dim)\n",
    "        self.act = ShiftedSoftplus()\n",
    "\n",
    "    def forward(self, x, edge_index, edge_weight, edge_attr):\n",
    "\n",
    "        # 原子間距離の計算\n",
    "        distances = torch.norm(edge_weight, dim=-1)  # 原子間距離 (num_edges,)\n",
    "        C = cutoff_function(distances, self.cutoff)  # カットオフ関数 (num_edges,)\n",
    "        \n",
    "        # フィルター重みの計算\n",
    "        W = self.mlp(edge_attr) * C.unsqueeze(-1)  # (num_edges, num_filters)\n",
    "\n",
    "        # メッセージ生成\n",
    "        i, j = edge_index  # edge_index (2, num_edges)\n",
    "        messages = W * self.lin1(x[j])  # (num_edges, num_filters)\n",
    "\n",
    "        #print(\"messages:\",messages.shape)\n",
    "        #print(\"x:\",x.shape)\n",
    "\n",
    "        # メッセージ集約\n",
    "        #index_addの利用を避ける（indexが同じものがあるケースだと問題がある）\n",
    "        agg_messages = torch.zeros_like(self.lin1(x))\n",
    "        # scatter_addが入った状態でgradが通るように、行列形状を調整している\n",
    "        index = i.unsqueeze(1) if i.ndim == 1 else index\n",
    "        agg_messages = torch.scatter_add(agg_messages, 0, index.expand_as(messages), messages)\n",
    "\n",
    "        #print(\"agg_messages:\",agg_messages.shape)\n",
    "        # 特徴量更新\n",
    "        h = self.act(self.lin2(agg_messages))  # 非線形変換を適用\n",
    "        #print(\"h:\",h.shape)\n",
    "        return x + h\n",
    "\n",
    "\n",
    "class SchNet_dict():\n",
    "    def __init__(self, hidden_dim, num_gaussians, num_filters, num_interactions, cutoff, type_num=100):\n",
    "        self.hidden_dim = hidden_dim\n",
    "        self.num_gaussians = num_gaussians\n",
    "        self.num_filters = num_filters\n",
    "        self.num_interactions = num_interactions\n",
    "        self.cutoff = cutoff\n",
    "        self.type_num = type_num\n",
    "\n",
    "    def to_dict(self):\n",
    "        return {\n",
    "            \"hidden_dim\": self.hidden_dim,\n",
    "            \"num_gaussians\": self.num_gaussians,\n",
    "            \"num_filters\": self.num_filters,\n",
    "            \"num_interactions\": self.num_interactions,\n",
    "            \"cutoff\": self.cutoff,\n",
    "            \"type_num\": self.type_num\n",
    "        }\n",
    "\n",
    "    @classmethod\n",
    "    def from_dict(cls, dic):\n",
    "        return cls(**dic)\n",
    "    \n",
    "class SchNetModel(nn.Module):\n",
    "\n",
    "\n",
    "    def __init__(self, hidden_dim, num_gaussians, num_filters, num_interactions, cutoff, type_num=100):\n",
    "        super().__init__()\n",
    "\n",
    "        self.setups=SchNet_dict(hidden_dim, num_gaussians, num_filters, num_interactions, cutoff, type_num)\n",
    "        self.embedding = TypeEmbedding(type_num, hidden_dim)\n",
    "        self.rbf = GaussianRBF(num_gaussians, cutoff)\n",
    "        self.interactions = nn.ModuleList()\n",
    "        for _ in range(num_interactions):\n",
    "            block = InteractionBlock(hidden_dim, num_gaussians,\n",
    "                                     num_filters, cutoff)\n",
    "            self.interactions.append(block)\n",
    "        self.output = nn.Sequential(\n",
    "            nn.Linear(hidden_dim, hidden_dim // 2),\n",
    "            ShiftedSoftplus(),\n",
    "            nn.Linear(hidden_dim // 2, 1)\n",
    "        )\n",
    "        #initialize weights\n",
    "        #pytorch のデフォルト初期化で十分であった（下手にいじると収束しにくくなる）\n",
    "        #self.apply(initialize_weights)\n",
    "\n",
    "    def forward(self, x, edge_index, edge_weight, batch=None):\n",
    "        #力を計算したいので、edge_weight (Rj-Ri)の微分を取る\n",
    "        edge_weight.requires_grad_()\n",
    "        # 埋め込み\n",
    "        h = self.embedding(x)\n",
    "\n",
    "        #print(\"embedding:\",h.shape)\n",
    "\n",
    "        # RBF展開\n",
    "        distances = torch.norm(edge_weight, dim=-1)\n",
    "        rbf_expansion = self.rbf(distances)\n",
    "        #print(\"rbf:\",rbf_expansion.shape)\n",
    "\n",
    "        # 相互作用ブロックを適用\n",
    "        for interaction in self.interactions:\n",
    "            h = interaction(h, edge_index, edge_weight, rbf_expansion)\n",
    "\n",
    "        # 出力層\n",
    "        energy = self.output(h)\n",
    "\n",
    "        # derivative with respect to edge_weight=rj-ri\n",
    "        diff_E = torch.autograd.grad(energy.sum(), edge_weight, create_graph=True)[0]\n",
    "        #p: pair, k,l: x,y,z\n",
    "        sigma_ij = torch.einsum('pk,pl->pkl', edge_weight, diff_E)\n",
    "\n",
    "\n",
    "        #edge_weightはrj-riである。\n",
    "        #ここでdeviceに指定していないと、CPUで計算されてしまう\n",
    "        force_i = torch.zeros((len(x), 3), device=edge_weight.device)\n",
    "        force_j = torch.zeros((len(x), 3), device=edge_weight.device)\n",
    "\n",
    "        #scatter_add version (index_addだとindexが同じものがあるケースだと問題があるかも)\n",
    "        index_i=edge_index[0].unsqueeze(1) if edge_index[0].ndim == 1 else edge_index[0]\n",
    "        index_j=edge_index[1].unsqueeze(1) if edge_index[1].ndim == 1 else edge_index[1]\n",
    "        force_i=torch.scatter_add(force_i, 0, index_i.expand_as(diff_E), diff_E)\n",
    "        force_j=torch.scatter_add(force_j, 0, index_j.expand_as(diff_E), -diff_E)\n",
    "\n",
    "        forces=force_i+force_j\n",
    "\n",
    "        # バッチごとに集約\n",
    "\n",
    "\n",
    "        if batch is not None:\n",
    "            batch_max = batch.max().item()\n",
    "            total_energy = torch.zeros(batch_max + 1, device=energy.device)\n",
    "            total_energy = total_energy.index_add_(0, batch, energy.squeeze())\n",
    "\n",
    "            sigma = torch.zeros((batch_max + 1, 3, 3), device=edge_weight.device)\n",
    "            batch_edge = batch[edge_index[0]]  # edge_indexのi側の原子のバッチ情報\n",
    "            sigma = sigma.index_add_(0, batch_edge, sigma_ij)\n",
    "\n",
    "        \n",
    "        else:\n",
    "            total_energy = energy.sum()\n",
    "            sigma = sigma_ij.sum(dim=0)\n",
    "            \n",
    "        if sigma.dim() == 3:\n",
    "            sigma = 0.5 * (sigma + sigma.transpose(1, 2))\n",
    "        else:\n",
    "            sigma = 0.5 * (sigma + sigma.T)\n",
    "\n",
    "        return total_energy,forces,sigma\n",
    "\n",
    "import torch\n",
    "import torch.nn as nn\n",
    "\n",
    "\n",
    "class SchNet_inference(nn.Module):\n",
    "    def __init__(self, hidden_dim, num_gaussians, num_filters, num_interactions, cutoff, type_num=100):\n",
    "        super().__init__()\n",
    "        self.embedding = TypeEmbedding(type_num, hidden_dim)\n",
    "        self.rbf = GaussianRBF(num_gaussians, cutoff)\n",
    "        self.interactions = nn.ModuleList()\n",
    "        for _ in range(num_interactions):\n",
    "            block = InteractionBlock(hidden_dim, num_gaussians,\n",
    "                                     num_filters, cutoff)\n",
    "            self.interactions.append(block)\n",
    "        self.output = nn.Sequential(\n",
    "            nn.Linear(hidden_dim, hidden_dim // 2),\n",
    "            ShiftedSoftplus(),\n",
    "            nn.Linear(hidden_dim // 2, 1)\n",
    "        )\n",
    "\n",
    "    def forward(self, x, edge_index, edge_weight, batch=None):\n",
    "\n",
    "        h = self.embedding(x)\n",
    "\n",
    "        distances = torch.norm(edge_weight, dim=-1)\n",
    "        rbf_expansion = self.rbf(distances)\n",
    "\n",
    "        for interaction in self.interactions:\n",
    "            h = interaction(h, edge_index, edge_weight, rbf_expansion)\n",
    "\n",
    "        # 出力層\n",
    "        energy = self.output(h)\n",
    "\n",
    "\n",
    "        if batch is not None:\n",
    "            batch_max = batch.max()\n",
    "            total_energy = torch.zeros(batch_max + 1, device=energy.device)\n",
    "            total_energy = total_energy.index_add_(0, batch, energy.squeeze())\n",
    "        else:\n",
    "            total_energy = energy.sum()\n",
    "            \n",
    "        return total_energy\n",
    "\n"
   ]
  },
  {
   "cell_type": "code",
   "execution_count": 3,
   "metadata": {},
   "outputs": [],
   "source": [
    "cutoff=5.0\n",
    "num_gaussians=60\n",
    "hidden_dim=100\n",
    "num_interactions=3\n",
    "num_filters=100\n",
    "\n",
    "model = SchNetModel(hidden_dim=hidden_dim, num_gaussians=num_gaussians, \n",
    "                    num_filters=num_filters, num_interactions=num_interactions, cutoff=cutoff)"
   ]
  },
  {
   "cell_type": "code",
   "execution_count": 4,
   "metadata": {},
   "outputs": [
    {
     "data": {
      "text/plain": [
       "<All keys matched successfully>"
      ]
     },
     "execution_count": 4,
     "metadata": {},
     "output_type": "execute_result"
    }
   ],
   "source": [
    "model.load_state_dict(torch.load('/home/emi/ML/simpleGNN/simplegnn/schnet_test/pressure_test/model_schnet_torch_full_stepLR.pth', map_location='cpu'))"
   ]
  },
  {
   "cell_type": "code",
   "execution_count": 5,
   "metadata": {},
   "outputs": [
    {
     "data": {
      "text/plain": [
       "SchNetModel(\n",
       "  (embedding): TypeEmbedding(\n",
       "    (embedding): Embedding(100, 100)\n",
       "  )\n",
       "  (rbf): GaussianRBF()\n",
       "  (interactions): ModuleList(\n",
       "    (0-2): 3 x InteractionBlock(\n",
       "      (mlp): Sequential(\n",
       "        (0): Linear(in_features=60, out_features=100, bias=True)\n",
       "        (1): ShiftedSoftplus()\n",
       "        (2): Linear(in_features=100, out_features=100, bias=True)\n",
       "      )\n",
       "      (lin1): Linear(in_features=100, out_features=100, bias=False)\n",
       "      (lin2): Linear(in_features=100, out_features=100, bias=True)\n",
       "      (act): ShiftedSoftplus()\n",
       "    )\n",
       "  )\n",
       "  (output): Sequential(\n",
       "    (0): Linear(in_features=100, out_features=50, bias=True)\n",
       "    (1): ShiftedSoftplus()\n",
       "    (2): Linear(in_features=50, out_features=1, bias=True)\n",
       "  )\n",
       ")"
      ]
     },
     "execution_count": 5,
     "metadata": {},
     "output_type": "execute_result"
    }
   ],
   "source": [
    "model.eval()"
   ]
  },
  {
   "cell_type": "code",
   "execution_count": 6,
   "metadata": {},
   "outputs": [
    {
     "data": {
      "text/plain": [
       "Atoms(symbols='O140Si70', pbc=True, cell=[12.5, 12.5, 12.5], calculator=SinglePointCalculator(...))"
      ]
     },
     "execution_count": 6,
     "metadata": {},
     "output_type": "execute_result"
    }
   ],
   "source": [
    "from ase.io import read \n",
    "atoms = read('/home/emi/ML/simpleGNN/simplegnn/schnet_test/pressure_test/dataset_with_stress_energy_forces.extxyz')\n",
    "atoms"
   ]
  },
  {
   "cell_type": "code",
   "execution_count": 7,
   "metadata": {},
   "outputs": [
    {
     "data": {
      "text/plain": [
       "-1398.75429383"
      ]
     },
     "execution_count": 7,
     "metadata": {},
     "output_type": "execute_result"
    }
   ],
   "source": [
    "atoms.get_total_energy()"
   ]
  },
  {
   "cell_type": "code",
   "execution_count": 8,
   "metadata": {},
   "outputs": [
    {
     "data": {
      "text/plain": [
       "array([[ 8.1294100e-01, -3.2840700e-01,  2.9802800e+00],\n",
       "       [-2.7530500e-01, -1.7875540e+00, -1.1926900e+00],\n",
       "       [ 2.1022600e-01,  4.4861030e+00,  2.5490500e+00],\n",
       "       [ 4.2769300e+00, -2.5809340e+00,  6.5210700e-01],\n",
       "       [ 5.7824000e-01, -4.7936210e+00, -1.8723670e+00],\n",
       "       [ 7.8895900e-01, -4.5724800e-01, -2.4293470e+00],\n",
       "       [-1.6988700e-01, -6.0877540e+00, -1.0458210e+00],\n",
       "       [-1.2139570e+00, -7.5732300e-01,  5.7134940e+00],\n",
       "       [ 5.6296060e+00,  1.7076280e+00,  5.8387270e+00],\n",
       "       [ 1.8399600e+00,  2.6135400e+00,  5.0948870e+00],\n",
       "       [ 3.5460930e+00,  4.7374500e-01,  3.2621000e-02],\n",
       "       [ 1.0607440e+00,  6.2298500e-01,  3.1977330e+00],\n",
       "       [-1.8214700e+00, -6.2740500e-01, -1.2202000e-02],\n",
       "       [ 3.1865970e+00,  1.9827900e-01, -3.0549800e-01],\n",
       "       [ 2.5325090e+00,  1.8633000e-02, -2.3380390e+00],\n",
       "       [-2.3840550e+00, -2.2068920e+00, -7.0566600e-01],\n",
       "       [ 1.9613200e+00, -6.2288000e-01, -6.0103600e-01],\n",
       "       [-3.9981340e+00,  3.5140550e+00,  1.7304650e+00],\n",
       "       [-1.2983690e+00, -5.0107010e+00, -3.6309980e+00],\n",
       "       [ 3.6813430e+00, -2.8983270e+00, -2.1688850e+00],\n",
       "       [ 8.3076600e-01,  2.1008950e+00,  4.2970910e+00],\n",
       "       [-1.2684720e+00, -2.1995280e+00,  2.7671120e+00],\n",
       "       [-2.7924560e+00, -2.6422270e+00,  1.3148020e+00],\n",
       "       [ 4.1009870e+00,  4.1594210e+00,  1.3355320e+00],\n",
       "       [-2.1535690e+00, -7.0190500e-01, -1.9061130e+00],\n",
       "       [ 4.9595300e-01, -2.2507190e+00, -3.7668360e+00],\n",
       "       [-2.3776390e+00, -1.1386570e+00,  3.9889720e+00],\n",
       "       [-2.9768300e+00, -3.2960370e+00,  2.3327440e+00],\n",
       "       [ 3.0842610e+00, -2.2353780e+00,  5.1920100e-01],\n",
       "       [ 1.9108950e+00,  1.0903810e+00,  1.1760850e+00],\n",
       "       [ 1.2852690e+00,  3.0645590e+00, -2.3842240e+00],\n",
       "       [ 3.9114090e+00, -5.0419670e+00, -3.0655150e+00],\n",
       "       [ 1.4367040e+00, -5.2417280e+00,  6.7417700e-01],\n",
       "       [ 8.2415900e-01, -3.6763540e+00, -1.3001460e+00],\n",
       "       [ 5.5818610e+00,  2.6560200e+00,  5.6873540e+00],\n",
       "       [ 2.0278940e+00,  4.0752330e+00,  3.4912580e+00],\n",
       "       [ 4.6544640e+00,  5.2958420e+00,  1.7904670e+00],\n",
       "       [-1.4522900e-01, -2.9714770e+00, -3.4424920e+00],\n",
       "       [-5.7925100e-01, -1.4219760e+00,  7.5620200e-01],\n",
       "       [-5.3850120e+00,  8.8612000e-02, -1.0472800e+00],\n",
       "       [-1.0012570e+00,  1.5863600e+00,  1.2181130e+00],\n",
       "       [ 1.0439850e+00, -3.3122840e+00,  7.8929700e-01],\n",
       "       [-1.5396220e+00,  1.4200630e+00,  2.6304170e+00],\n",
       "       [ 5.4744300e-01,  1.7123600e+00, -1.6629130e+00],\n",
       "       [ 2.2223420e+00,  4.7496670e+00,  3.4244260e+00],\n",
       "       [ 6.5352160e+00, -2.7817360e+00,  2.7783980e+00],\n",
       "       [ 1.6685440e+00,  5.7991700e-01, -7.1000000e-02],\n",
       "       [ 4.3338570e+00,  6.3948840e+00,  3.0315740e+00],\n",
       "       [ 7.6968500e+00,  3.8222620e+00, -3.9808100e-01],\n",
       "       [ 2.5338050e+00,  4.4408000e-02,  5.5854360e+00],\n",
       "       [ 1.4957600e-01, -2.3976320e+00, -3.1302840e+00],\n",
       "       [ 3.8822600e-01,  1.0004200e+00, -1.4859200e-01],\n",
       "       [ 1.5813680e+00,  4.6311670e+00,  1.3875930e+00],\n",
       "       [ 2.7048640e+00,  7.4324800e-01, -1.5116500e+00],\n",
       "       [ 3.8815380e+00,  1.1040800e+00,  7.1553520e+00],\n",
       "       [ 1.1261410e+00, -1.0904050e+00, -4.4326930e+00],\n",
       "       [-1.3617980e+00, -1.5818320e+00,  3.8875000e+00],\n",
       "       [ 2.4011200e+00, -9.6931380e+00,  2.9226540e+00],\n",
       "       [-2.2681990e+00, -1.0532160e+01,  7.7193430e+00],\n",
       "       [ 4.0744190e+00,  2.4765490e+00,  5.9234600e-01],\n",
       "       [-3.1917880e+00,  7.0398900e-01,  4.0676100e+00],\n",
       "       [ 3.4326920e+00, -1.2094650e+00,  1.3481250e+00],\n",
       "       [-1.8677600e+00,  1.6724160e+00, -1.3547300e-01],\n",
       "       [-4.3734860e+00,  8.8836100e-01,  5.5499890e+00],\n",
       "       [-1.1346300e+00,  3.1100100e-01, -8.2230900e-01],\n",
       "       [-4.4429900e-01,  1.3960770e+00,  6.0032600e-01],\n",
       "       [ 2.8215380e+00, -3.9751580e+00, -3.9372330e+00],\n",
       "       [-1.1201800e+00, -5.0211650e+00,  2.8572820e+00],\n",
       "       [-5.9256130e+00, -6.4991590e+00,  1.0517709e+01],\n",
       "       [ 1.6457020e+00, -1.8672040e+00, -4.8588550e+00],\n",
       "       [ 1.5771390e+00,  3.0616780e+00,  9.2103700e-01],\n",
       "       [ 1.4380300e+00,  3.8412800e-01,  5.4963000e-01],\n",
       "       [-2.0695310e+00,  1.4546770e+00, -7.8099100e-01],\n",
       "       [-1.3463460e+00,  1.3689460e+00, -1.8802570e+00],\n",
       "       [-2.6568800e-01,  1.2306360e+00, -6.8442260e+00],\n",
       "       [-3.5770760e+00, -4.7272100e-01,  8.6673700e-01],\n",
       "       [-2.2230250e+00, -8.4002100e-01,  2.4722620e+00],\n",
       "       [-2.4904990e+00, -1.3326800e+00,  1.5059380e+00],\n",
       "       [-2.1259490e+00,  1.0488034e+01,  2.3226820e+00],\n",
       "       [-5.9799950e+00, -1.5966200e-01, -3.5644740e+00],\n",
       "       [ 1.6682070e+00,  1.4535590e+00,  2.1793610e+00],\n",
       "       [ 4.0353110e+00, -1.3108250e+00,  1.7435130e+00],\n",
       "       [ 4.0908100e-01,  3.6227170e+00, -4.9777720e+00],\n",
       "       [-3.8726600e+00, -9.3245700e-01, -3.4257250e+00],\n",
       "       [-6.6203520e+00,  4.7563700e-01,  8.4516300e-01],\n",
       "       [ 2.8079240e+00,  2.9466070e+00, -3.8451500e+00],\n",
       "       [ 3.8525090e+00,  3.3523870e+00,  4.3569180e+00],\n",
       "       [ 1.1502890e+00, -7.1593000e-02, -1.3688200e-01],\n",
       "       [ 1.0572110e+00,  1.7289160e+00, -1.2289190e+00],\n",
       "       [-6.8932210e+00,  2.0056200e-01,  7.1436860e+00],\n",
       "       [ 2.3322810e+00,  2.0412400e+00, -4.3426700e-01],\n",
       "       [ 2.5362900e-01,  4.2227400e-01, -3.0123400e+00],\n",
       "       [-2.9328150e+00, -3.1253200e-01, -1.0899580e+00],\n",
       "       [-2.6636920e+00, -2.0503320e+00,  1.1238570e+00],\n",
       "       [ 2.7633800e-01,  3.2984000e-02,  3.6199800e-01],\n",
       "       [-1.5959200e+00,  3.6336440e+00, -5.9358310e+00],\n",
       "       [-1.7668800e-01, -1.7120620e+00,  1.0548820e+00],\n",
       "       [ 2.4701640e+00,  6.7509400e-01,  3.8234800e-01],\n",
       "       [ 2.2495010e+00,  1.6711690e+00,  3.1827320e+00],\n",
       "       [ 3.9765630e+00, -9.3697200e-01,  6.3774360e+00],\n",
       "       [ 4.6421220e+00, -1.3985750e+00,  4.8707430e+00],\n",
       "       [-3.4930950e+00, -1.1877560e+00,  5.0885010e+00],\n",
       "       [ 1.2408090e+00, -2.0209910e+00,  2.2564520e+00],\n",
       "       [-7.8119800e+00,  1.2318840e+00, -2.7885080e+00],\n",
       "       [-2.2648340e+00,  2.8945980e+00, -1.0063100e-01],\n",
       "       [-1.1467540e+00,  3.6112410e+00, -1.0496810e+00],\n",
       "       [ 9.7035600e-01, -1.4055140e+00, -6.5860300e-01],\n",
       "       [-3.2543840e+00, -5.2633540e+00,  1.6983710e+00],\n",
       "       [-7.1460600e-01,  1.1457470e+00,  1.4968330e+00],\n",
       "       [-7.8222310e+00, -2.1387110e+00, -8.4298900e-01],\n",
       "       [-2.5000970e+00, -1.4817500e-01, -4.5866190e+00],\n",
       "       [-4.9985150e+00, -3.1418900e-01,  2.2380820e+00],\n",
       "       [-3.8301240e+00,  5.1785380e+00, -1.1543750e+00],\n",
       "       [-2.5082920e+00, -9.8599300e-01, -4.1176000e+00],\n",
       "       [-1.7697770e+00,  6.1211000e-02,  2.0338740e+00],\n",
       "       [ 9.2229200e-01, -1.1187300e+00, -1.1799070e+00],\n",
       "       [ 8.5956800e-01, -9.3186000e-02,  8.3874100e-01],\n",
       "       [-6.5818900e-01, -1.2426860e+00,  5.1433920e+00],\n",
       "       [ 3.5683810e+00,  1.2037620e+00, -5.7471000e-01],\n",
       "       [ 1.5865700e-01,  1.9242000e-01, -4.2588200e+00],\n",
       "       [ 3.1892000e-02,  2.5989370e+00,  5.3534030e+00],\n",
       "       [ 2.1672100e-01, -5.7418230e+00,  9.9722300e-01],\n",
       "       [ 4.9458600e+00,  1.4808280e+00, -5.1338430e+00],\n",
       "       [ 2.7385160e+00,  5.3506790e+00, -1.9022250e+00],\n",
       "       [ 1.2621600e+00,  1.0379830e+00, -2.0400100e+00],\n",
       "       [-1.1767980e+00, -6.2517300e-01,  1.9556040e+00],\n",
       "       [-4.0146720e+00,  2.5624550e+00, -1.1100190e+00],\n",
       "       [-1.5146030e+00, -2.2647110e+00,  3.4110000e-03],\n",
       "       [ 8.3866000e-01,  1.7175300e-01, -2.6040400e-01],\n",
       "       [-4.5085000e-02, -1.3843550e+00,  2.1280200e+00],\n",
       "       [-1.8941910e+00,  7.4309920e+00,  6.4088500e-01],\n",
       "       [-3.1164050e+00, -3.6946520e+00,  2.3695540e+00],\n",
       "       [-1.7376210e+00, -5.2930600e-01,  4.6688500e-01],\n",
       "       [-8.3919500e-01, -7.4625400e-01, -1.9543100e+00],\n",
       "       [ 6.1948070e+00, -2.6855700e+00, -2.5254800e+00],\n",
       "       [-2.2619080e+00,  1.0192070e+00, -6.4081210e+00],\n",
       "       [ 1.6340900e+00,  2.3521600e-01, -2.5091350e+00],\n",
       "       [ 1.1553590e+00, -2.7639350e+00, -7.7271400e-01],\n",
       "       [ 3.1635220e+00,  1.5955210e+00, -1.5105150e+00],\n",
       "       [ 1.0061860e+00,  6.4146100e-01, -2.1218500e-01],\n",
       "       [ 9.2086900e-01, -3.3378250e+00, -4.6585340e+00],\n",
       "       [ 1.1030420e+00,  1.4079940e+00, -1.6668210e+00],\n",
       "       [-3.2331480e+00, -2.5336790e+00, -6.9899320e+00],\n",
       "       [ 4.1895100e-01,  7.1912030e+00,  7.6659900e-01],\n",
       "       [ 1.8634020e+00,  3.3158880e+00, -1.0471000e-02],\n",
       "       [-8.0983600e-01, -8.2926000e-01,  1.1674570e+00],\n",
       "       [-1.5724290e+00, -4.1819780e+00,  3.5997730e+00],\n",
       "       [ 1.7095670e+00,  1.4633520e+00, -5.5674460e+00],\n",
       "       [-8.5992800e-01, -3.8159900e-01, -2.2697370e+00],\n",
       "       [-4.6029140e+00, -2.6852580e+00, -6.4460400e+00],\n",
       "       [ 9.7163200e-01,  9.0566840e+00, -5.9232550e+00],\n",
       "       [-1.6811270e+00, -1.9043480e+00, -2.5367110e+00],\n",
       "       [-1.3454360e+00,  1.4085690e+00, -6.0199300e-01],\n",
       "       [ 3.2993870e+00,  1.4755000e-02, -1.1827520e+00],\n",
       "       [-3.8732750e+00,  2.5647980e+00,  3.8520050e+00],\n",
       "       [-1.5262960e+00,  7.8168780e+00,  9.7011900e-01],\n",
       "       [-1.0778210e+00, -3.1500960e+00,  5.7114290e+00],\n",
       "       [-3.3202350e+00, -1.4064390e+00,  1.9518820e+00],\n",
       "       [ 7.4794000e-02,  8.1012500e-01, -7.4754300e+00],\n",
       "       [ 6.7631660e+00, -4.5168900e-01,  2.7462760e+00],\n",
       "       [-3.0778100e-01,  8.5736300e-01, -3.8264270e+00],\n",
       "       [ 6.1293400e+00, -7.7303000e+00,  5.8526820e+00],\n",
       "       [-1.4848890e+00, -3.3864200e+00,  3.2372600e+00],\n",
       "       [ 1.8308420e+00,  2.6330520e+00,  2.6745490e+00],\n",
       "       [ 9.7000280e+00,  1.5616940e+00,  3.5544920e+00],\n",
       "       [ 3.0134160e+00, -4.2474890e+00, -1.2308400e-01],\n",
       "       [ 3.8558630e+00, -4.7534180e+00, -2.8214210e+00],\n",
       "       [ 2.7578610e+00,  4.0909920e+00, -1.0464761e+01],\n",
       "       [ 1.2427930e+00, -1.3180000e-01,  1.6457480e+00],\n",
       "       [-4.9782990e+00, -8.2738300e-01, -2.5196110e+00],\n",
       "       [-2.9807500e-01,  6.3304700e-01, -2.7615500e+00],\n",
       "       [-1.0795140e+00,  9.7503500e-01,  2.6902620e+00],\n",
       "       [-1.4734230e+00, -7.9908020e+00, -3.8413140e+00],\n",
       "       [-1.0814810e+00, -5.6899930e+00, -3.5693910e+00],\n",
       "       [ 2.2409580e+00,  1.4421050e+00, -7.8179300e-01],\n",
       "       [ 7.0313000e-02,  3.7867240e+00,  5.0059320e+00],\n",
       "       [ 1.6438560e+00,  4.8671830e+00, -9.9460000e+00],\n",
       "       [-3.1310830e+00, -2.0402860e+00,  3.5693400e-01],\n",
       "       [ 8.0386500e-01,  1.9583360e+00,  7.9014000e+00],\n",
       "       [-2.0906820e+00,  4.5336330e+00, -4.0637370e+00],\n",
       "       [-7.5718000e-01,  2.7349690e+00,  1.4581830e+00],\n",
       "       [ 1.3293470e+00,  3.3390860e+00,  1.5305940e+00],\n",
       "       [-2.2976950e+00,  1.9048280e+00,  6.0873900e-01],\n",
       "       [-8.0199700e-01, -1.9366450e+00, -3.3343380e+00],\n",
       "       [-3.1931600e+00,  4.2066220e+00,  4.6779670e+00],\n",
       "       [-1.6509240e+00,  4.5312500e-01,  3.1795400e+00],\n",
       "       [-3.9686520e+00, -2.4445070e+00,  2.8458270e+00],\n",
       "       [ 1.6558060e+00, -7.3415700e-01,  2.2392300e-01],\n",
       "       [ 8.7164040e+00, -9.6214200e-01, -5.9721920e+00],\n",
       "       [ 3.9060030e+00,  6.9199500e+00, -3.5552230e+00],\n",
       "       [-2.0542760e+00, -2.8147420e+00, -2.7025520e+00],\n",
       "       [ 2.0260600e-01, -4.8980320e+00,  1.8863570e+00],\n",
       "       [-1.8401410e+00,  2.5314190e+00, -5.9304960e+00],\n",
       "       [-5.4924590e+00,  1.0931320e+00, -1.7067230e+00],\n",
       "       [-1.0859820e+00,  2.0348590e+00, -2.6598500e-01],\n",
       "       [-1.6046500e-01, -3.6184750e+00, -3.0087690e+00],\n",
       "       [ 2.5758250e+00, -2.8961300e+00, -2.2540440e+00],\n",
       "       [-6.4892230e+00,  3.1294440e+00, -6.1725070e+00],\n",
       "       [-7.7385000e-02, -3.9302490e+00,  1.5261890e+00],\n",
       "       [-1.1052220e+00, -2.8279500e-01,  6.5657400e-01],\n",
       "       [-1.9058120e+00, -2.7782820e+00, -1.8079280e+00],\n",
       "       [-3.7775330e+00, -1.9604660e+00,  3.5206460e+00],\n",
       "       [ 1.7441110e+00, -8.6341000e-01, -1.5545600e+00],\n",
       "       [-1.8238610e+00, -1.2963870e+00, -2.5101900e-01],\n",
       "       [-3.0097100e+00,  2.4281430e+00, -2.2159620e+00],\n",
       "       [-2.9118170e+00,  1.8049280e+00, -2.2735260e+00],\n",
       "       [ 4.0966000e-02, -9.6515600e-01, -1.8158070e+00],\n",
       "       [-4.0316790e+00,  3.3806900e-01, -4.9193870e+00],\n",
       "       [-2.5479530e+00,  2.3831430e+00,  3.8434800e-01],\n",
       "       [ 1.3574180e+00, -1.1814000e-01, -2.1603200e-01]])"
      ]
     },
     "execution_count": 8,
     "metadata": {},
     "output_type": "execute_result"
    }
   ],
   "source": [
    "atoms.get_forces()"
   ]
  },
  {
   "cell_type": "code",
   "execution_count": 9,
   "metadata": {},
   "outputs": [],
   "source": [
    "data=converter(atoms, cutoff)"
   ]
  },
  {
   "cell_type": "code",
   "execution_count": 10,
   "metadata": {},
   "outputs": [
    {
     "data": {
      "text/plain": [
       "Data(x=[210], edge_index=[2, 11628], pos=[210, 3], edge_weight=[11628, 3])"
      ]
     },
     "execution_count": 10,
     "metadata": {},
     "output_type": "execute_result"
    }
   ],
   "source": [
    "data"
   ]
  },
  {
   "cell_type": "code",
   "execution_count": 11,
   "metadata": {},
   "outputs": [],
   "source": [
    "energy, forces, sigma=model(data.x, data.edge_index, data.edge_weight)"
   ]
  },
  {
   "cell_type": "code",
   "execution_count": 12,
   "metadata": {},
   "outputs": [
    {
     "data": {
      "text/plain": [
       "(tensor(-1393.9912, grad_fn=<SumBackward0>),\n",
       " tensor([[ 8.0596e-01,  2.5694e-01,  3.3015e+00],\n",
       "         [-9.8538e-02, -1.6051e+00, -1.1373e+00],\n",
       "         [ 1.2611e+00,  4.4187e+00,  2.2573e+00],\n",
       "         [ 3.2359e+00, -2.7540e+00,  1.4962e+00],\n",
       "         [-2.0529e-01, -3.5155e+00, -1.1002e+00],\n",
       "         [ 7.3181e-01, -5.2091e-01, -3.0541e+00],\n",
       "         [-2.2046e-01, -6.2496e+00, -8.8446e-01],\n",
       "         [-1.2971e+00, -8.0999e-01,  5.5864e+00],\n",
       "         [ 4.0907e+00,  1.3495e+00,  5.3836e+00],\n",
       "         [ 3.0891e+00,  2.3216e+00,  5.0653e+00],\n",
       "         [ 3.0302e+00, -2.3667e-01, -7.5449e-02],\n",
       "         [ 3.9865e-01,  3.7146e-01,  2.8482e+00],\n",
       "         [-2.3224e+00, -1.4507e+00,  4.5986e-01],\n",
       "         [ 3.3427e+00,  1.4423e+00, -1.5529e-01],\n",
       "         [ 1.9226e+00,  2.7990e-01, -1.9376e+00],\n",
       "         [-3.1329e+00, -2.9361e+00, -8.2420e-01],\n",
       "         [ 2.7410e+00, -1.0168e+00, -1.4198e+00],\n",
       "         [-4.0370e+00,  2.0736e+00,  1.6339e+00],\n",
       "         [-1.0566e+00, -4.7890e+00, -4.4128e+00],\n",
       "         [ 3.9467e+00, -3.8998e+00, -3.0329e+00],\n",
       "         [ 5.3779e-01,  1.4326e+00,  4.6573e+00],\n",
       "         [-2.2051e+00, -1.4534e+00,  2.6736e+00],\n",
       "         [-2.9460e+00, -2.7719e+00,  6.3199e-01],\n",
       "         [ 4.4013e+00,  3.8807e+00,  1.9036e-01],\n",
       "         [-2.7350e+00, -1.0415e+00, -2.6656e+00],\n",
       "         [ 1.2125e+00, -2.0558e+00, -4.2686e+00],\n",
       "         [-2.4427e+00, -1.8463e+00,  1.4914e+00],\n",
       "         [-2.9356e+00, -3.3955e+00,  2.4714e+00],\n",
       "         [ 2.4622e+00, -2.0311e+00, -1.0818e+00],\n",
       "         [ 1.7934e+00,  1.9233e+00,  1.9883e-01],\n",
       "         [ 1.2531e+00,  3.0976e+00, -1.8837e+00],\n",
       "         [ 4.2528e+00, -5.7386e+00, -3.0833e+00],\n",
       "         [ 1.0921e+00, -4.4367e+00,  6.4992e-01],\n",
       "         [ 9.0130e-01, -3.8016e+00, -1.0242e+00],\n",
       "         [ 4.8001e+00,  3.1578e+00,  6.0305e+00],\n",
       "         [ 1.6777e+00,  3.7013e+00,  3.4469e+00],\n",
       "         [ 4.8590e+00,  5.4040e+00,  2.9853e+00],\n",
       "         [-8.9855e-01, -2.4225e+00, -1.9462e+00],\n",
       "         [-6.5139e-01, -1.3189e+00,  5.2328e-01],\n",
       "         [-5.4566e+00,  2.7712e-01, -1.8038e+00],\n",
       "         [-1.0534e+00,  2.2706e+00,  1.4016e+00],\n",
       "         [ 1.4398e+00, -3.6055e+00,  5.2236e-01],\n",
       "         [-3.5143e-01,  1.8745e+00,  3.1930e+00],\n",
       "         [ 7.3291e-01,  1.7384e+00, -1.1923e+00],\n",
       "         [ 2.8998e+00,  5.0099e+00,  3.6417e+00],\n",
       "         [ 7.0689e+00, -4.0411e+00,  2.6553e+00],\n",
       "         [ 1.5878e+00,  1.1711e+00,  2.1313e-01],\n",
       "         [ 4.8598e+00,  6.5047e+00,  2.9282e+00],\n",
       "         [ 7.2530e+00,  3.4521e+00,  6.8815e-03],\n",
       "         [ 3.5941e+00,  2.3278e-01,  3.3737e+00],\n",
       "         [ 6.1324e-01, -1.4729e+00, -1.6480e+00],\n",
       "         [ 5.2747e-01, -2.4090e-01, -9.5474e-01],\n",
       "         [ 1.9329e+00,  5.3285e+00,  1.1018e+00],\n",
       "         [ 2.4995e+00, -2.9484e-01, -5.7342e-01],\n",
       "         [ 3.5152e+00,  7.6911e-01,  7.3899e+00],\n",
       "         [ 5.5243e-02, -1.1412e+00, -4.2468e+00],\n",
       "         [-9.7712e-01, -1.8745e+00,  3.2850e+00],\n",
       "         [ 1.8788e+00, -9.0042e+00,  1.5511e+00],\n",
       "         [-2.6685e+00, -1.0342e+01,  7.4472e+00],\n",
       "         [ 4.3325e+00,  3.3479e+00,  1.0743e+00],\n",
       "         [-3.0856e+00,  1.2997e+00,  3.4496e+00],\n",
       "         [ 3.5744e+00, -4.9442e-01,  7.8176e-01],\n",
       "         [-2.2418e+00,  1.7901e+00,  5.9603e-01],\n",
       "         [-4.6316e+00,  1.0149e+00,  4.9296e+00],\n",
       "         [-1.5542e+00,  9.8202e-01, -9.1886e-01],\n",
       "         [-1.0502e+00,  3.3225e-01,  8.1518e-01],\n",
       "         [ 2.7536e+00, -3.0400e+00, -3.8099e+00],\n",
       "         [ 9.3649e-01, -6.1961e+00,  2.3288e+00],\n",
       "         [-6.4461e+00, -6.9723e+00,  9.6276e+00],\n",
       "         [ 1.3060e+00, -2.3634e+00, -4.8657e+00],\n",
       "         [ 8.7949e-01,  4.6893e+00,  2.0199e+00],\n",
       "         [ 1.2261e+00,  3.9117e-01, -1.5561e-01],\n",
       "         [-2.8621e+00,  7.6535e-01, -4.9359e-01],\n",
       "         [-1.0255e+00,  1.7784e+00, -2.1949e+00],\n",
       "         [-5.8697e-01,  6.8956e-01, -6.9084e+00],\n",
       "         [-4.5369e+00, -6.7742e-01,  7.3607e-01],\n",
       "         [-2.1747e+00,  1.3493e-01,  2.6740e+00],\n",
       "         [-1.1892e+00,  5.6931e-02,  2.5410e+00],\n",
       "         [-4.2372e-01,  9.5915e+00,  4.4720e+00],\n",
       "         [-6.5461e+00, -1.2658e-01, -4.9450e+00],\n",
       "         [ 2.1055e+00,  1.6089e+00,  2.2360e+00],\n",
       "         [ 4.0560e+00, -1.6704e+00,  1.5596e+00],\n",
       "         [ 1.3257e+00,  4.1695e+00, -4.0847e+00],\n",
       "         [-3.5934e+00, -8.3682e-01, -3.5791e+00],\n",
       "         [-7.2542e+00, -9.3624e-01,  1.2689e+00],\n",
       "         [ 2.4568e+00,  3.2488e+00, -3.9821e+00],\n",
       "         [ 3.8509e+00,  4.0898e+00,  5.1108e+00],\n",
       "         [ 1.3270e+00,  6.1735e-01, -4.9487e-01],\n",
       "         [ 2.1364e+00,  2.3550e+00,  1.8069e-01],\n",
       "         [-6.7258e+00,  4.2845e-01,  6.1096e+00],\n",
       "         [ 2.3567e+00,  2.1739e+00, -4.1071e-01],\n",
       "         [ 1.6692e-01, -4.1658e-01, -2.3442e+00],\n",
       "         [-2.3340e+00, -2.4071e-01, -2.4675e+00],\n",
       "         [-2.7369e+00, -1.5847e+00,  5.9887e-01],\n",
       "         [-4.3907e-01,  6.5399e-01,  8.6728e-01],\n",
       "         [-1.1541e+00,  3.5601e+00, -5.9292e+00],\n",
       "         [-3.1059e-01, -2.3499e+00,  8.8670e-02],\n",
       "         [ 3.1806e+00,  2.2295e-01,  1.1338e+00],\n",
       "         [ 1.2332e+00,  1.4630e+00,  2.9701e+00],\n",
       "         [ 3.2092e+00, -2.0340e+00,  6.5153e+00],\n",
       "         [ 4.9612e+00, -9.2500e-01,  4.2982e+00],\n",
       "         [-3.5801e+00, -1.9378e+00,  5.2236e+00],\n",
       "         [ 5.6934e-01, -1.4723e+00,  2.5541e+00],\n",
       "         [-8.1999e+00,  1.0593e+00, -3.0826e+00],\n",
       "         [-1.6117e+00,  2.8386e+00, -9.4636e-01],\n",
       "         [-4.8658e-01,  4.2496e+00, -1.7503e+00],\n",
       "         [ 4.9828e-01, -1.0750e+00, -9.3744e-02],\n",
       "         [-4.2004e+00, -4.4551e+00,  1.6605e+00],\n",
       "         [-1.0785e+00,  7.2972e-01,  1.7243e+00],\n",
       "         [-6.5748e+00, -2.2332e+00, -1.3445e+00],\n",
       "         [-2.1943e+00,  6.7094e-01, -5.0917e+00],\n",
       "         [-3.8326e+00,  7.5841e-01,  2.1296e+00],\n",
       "         [-3.9290e+00,  4.5304e+00, -5.9363e-01],\n",
       "         [-3.2463e+00, -5.6464e-01, -3.3938e+00],\n",
       "         [-2.5212e+00,  4.0214e-01,  2.8980e+00],\n",
       "         [ 8.7060e-01, -5.2531e-01, -1.1460e+00],\n",
       "         [ 1.8227e+00, -6.5211e-01,  1.5187e+00],\n",
       "         [-2.2592e-01, -7.9712e-01,  5.6939e+00],\n",
       "         [ 4.0227e+00,  1.2489e+00, -6.3788e-01],\n",
       "         [-1.9135e-01,  2.9386e-02, -4.1427e+00],\n",
       "         [-5.7927e-01,  1.4336e+00,  5.3965e+00],\n",
       "         [-6.5709e-02, -4.5939e+00,  9.3797e-01],\n",
       "         [ 5.2307e+00,  1.4164e+00, -4.7475e+00],\n",
       "         [ 2.2786e+00,  4.6508e+00, -1.0394e+00],\n",
       "         [ 1.9634e-01,  1.6406e+00, -1.9761e+00],\n",
       "         [-1.0225e+00, -1.6719e+00,  3.0634e+00],\n",
       "         [-3.4783e+00,  3.6106e+00, -1.2999e+00],\n",
       "         [-1.4735e+00, -3.1196e+00,  6.7788e-02],\n",
       "         [ 1.4680e-01,  3.4445e-01, -2.4474e-01],\n",
       "         [ 3.3877e-03, -1.5607e+00,  3.5804e+00],\n",
       "         [-1.3539e+00,  6.3141e+00,  5.3641e-01],\n",
       "         [-3.6576e+00, -4.0296e+00,  2.5300e+00],\n",
       "         [-1.4623e+00, -7.7196e-01, -1.1787e-01],\n",
       "         [-2.3664e-01, -1.7278e+00, -1.6057e+00],\n",
       "         [ 6.1002e+00, -3.2828e+00, -2.3011e+00],\n",
       "         [-1.7622e+00,  1.9256e+00, -6.1089e+00],\n",
       "         [ 2.2598e+00, -3.0218e-01, -2.4046e+00],\n",
       "         [ 1.7262e+00, -3.7366e+00, -1.5641e+00],\n",
       "         [ 2.5939e+00,  1.3916e+00, -8.1244e-01],\n",
       "         [ 1.3701e-01,  1.4465e+00, -1.1312e+00],\n",
       "         [ 2.0170e+00, -3.5852e+00, -5.7119e+00],\n",
       "         [ 9.8466e-01,  9.8561e-01, -2.3782e+00],\n",
       "         [-2.3740e+00, -2.3953e+00, -7.4057e+00],\n",
       "         [ 1.0622e+00,  7.7875e+00,  1.2101e+00],\n",
       "         [ 2.7068e+00,  1.3752e+00,  3.2615e-01],\n",
       "         [-3.7999e-01, -1.0012e+00,  1.5381e+00],\n",
       "         [-2.5682e+00, -3.5900e+00,  2.7504e+00],\n",
       "         [ 7.6617e-01,  1.2608e+00, -5.3826e+00],\n",
       "         [-4.7517e-01, -8.9555e-02, -2.5888e+00],\n",
       "         [-4.3998e+00, -2.1711e+00, -5.2166e+00],\n",
       "         [ 1.4210e+00,  9.9978e+00, -6.6128e+00],\n",
       "         [-2.4443e+00, -1.3184e+00, -2.3338e+00],\n",
       "         [-1.4515e+00,  2.2441e+00, -1.2844e+00],\n",
       "         [ 3.5779e+00, -7.1660e-02, -1.7813e+00],\n",
       "         [-3.9772e+00,  3.2674e+00,  3.2992e+00],\n",
       "         [ 5.2691e-01,  8.6844e+00,  6.8151e-01],\n",
       "         [-7.9346e-01, -4.2609e+00,  4.7672e+00],\n",
       "         [-4.4081e+00, -1.4338e+00,  2.2985e+00],\n",
       "         [ 2.6631e-01,  1.3107e-01, -7.3289e+00],\n",
       "         [ 6.8648e+00,  4.8514e-01,  1.7691e+00],\n",
       "         [-9.5565e-01,  5.5928e-01, -3.2257e+00],\n",
       "         [ 5.8650e+00, -8.4641e+00,  5.5804e+00],\n",
       "         [-2.0097e+00, -2.5126e+00,  3.1433e+00],\n",
       "         [ 1.3339e+00,  1.9984e+00,  1.9130e+00],\n",
       "         [ 9.0906e+00,  1.4710e+00,  2.8127e+00],\n",
       "         [ 1.6224e+00, -4.6335e+00,  3.4908e-01],\n",
       "         [ 3.8549e+00, -4.7296e+00, -3.2297e+00],\n",
       "         [ 2.9522e+00,  4.7809e+00, -1.0062e+01],\n",
       "         [ 1.4792e+00, -7.9300e-01,  3.4843e+00],\n",
       "         [-5.5570e+00, -1.8179e+00, -2.3762e+00],\n",
       "         [-1.0821e+00,  7.1153e-01, -3.0190e+00],\n",
       "         [-9.6550e-02,  9.7065e-01,  2.8522e+00],\n",
       "         [-1.7827e+00, -8.2533e+00, -2.9371e+00],\n",
       "         [-1.3876e+00, -4.8241e+00, -2.8102e+00],\n",
       "         [ 1.9626e+00,  1.1480e+00, -1.2840e+00],\n",
       "         [-1.1660e-01,  3.2003e+00,  5.0183e+00],\n",
       "         [ 2.3886e+00,  4.9334e+00, -1.0209e+01],\n",
       "         [-3.4444e+00, -1.8861e+00,  4.3675e-01],\n",
       "         [ 1.3848e+00,  2.4583e+00,  8.0460e+00],\n",
       "         [-1.5682e+00,  4.1531e+00, -4.3585e+00],\n",
       "         [ 1.4410e-01,  2.7509e+00,  2.2418e+00],\n",
       "         [ 2.1165e+00,  3.5400e+00,  2.0652e+00],\n",
       "         [-2.9202e+00,  1.2280e+00, -5.8457e-01],\n",
       "         [-8.6767e-01, -1.3625e+00, -2.1795e+00],\n",
       "         [-2.5068e+00,  4.2323e+00,  4.1318e+00],\n",
       "         [-1.5879e+00,  1.3951e+00,  3.8428e+00],\n",
       "         [-3.4920e+00, -1.4445e+00,  2.8925e+00],\n",
       "         [ 8.9458e-01, -1.0720e+00,  3.2028e-01],\n",
       "         [ 8.3192e+00, -2.4066e-01, -6.1746e+00],\n",
       "         [ 2.8297e+00,  6.0663e+00, -3.3640e+00],\n",
       "         [-1.0091e+00, -1.9567e+00, -3.0236e+00],\n",
       "         [-1.0010e+00, -5.3207e+00,  2.9163e+00],\n",
       "         [-5.9388e-01,  1.8593e+00, -5.2538e+00],\n",
       "         [-5.0224e+00,  1.9391e+00, -2.2515e+00],\n",
       "         [-8.5589e-01,  9.9452e-01, -2.9990e-01],\n",
       "         [-4.4539e-01, -3.5712e+00, -2.5228e+00],\n",
       "         [ 2.8756e+00, -3.4939e+00, -2.4802e+00],\n",
       "         [-5.6584e+00,  3.5778e+00, -6.9963e+00],\n",
       "         [ 3.1389e-01, -3.9280e+00,  1.3336e+00],\n",
       "         [-1.7893e+00,  1.0038e+00, -3.7564e-02],\n",
       "         [-1.5513e+00, -2.9878e+00, -1.4915e+00],\n",
       "         [-3.7971e+00, -1.6496e+00,  3.0093e+00],\n",
       "         [ 9.6918e-01, -1.9616e+00, -8.6796e-01],\n",
       "         [-2.8031e-01, -1.0217e+00, -1.1280e-01],\n",
       "         [-3.1912e+00,  2.0425e+00, -2.0399e+00],\n",
       "         [-2.5144e+00,  1.9943e+00, -2.2316e+00],\n",
       "         [ 6.8717e-01, -1.7923e+00, -1.8894e+00],\n",
       "         [-4.3515e+00,  6.7098e-01, -2.9450e+00],\n",
       "         [-3.2539e+00,  1.9941e+00,  1.5085e+00],\n",
       "         [ 1.1311e-01, -6.5657e-01,  1.1995e-01]], grad_fn=<AddBackward0>),\n",
       " tensor([[-277.4648,  -41.8469,  -42.1119],\n",
       "         [ -41.8469, -262.3660,   -5.5453],\n",
       "         [ -42.1119,   -5.5453, -299.5860]], grad_fn=<MulBackward0>))"
      ]
     },
     "execution_count": 12,
     "metadata": {},
     "output_type": "execute_result"
    }
   ],
   "source": [
    "energy, forces, sigma"
   ]
  },
  {
   "cell_type": "code",
   "execution_count": 13,
   "metadata": {},
   "outputs": [
    {
     "data": {
      "text/plain": [
       "tensor([[ 2.6691,  2.5528, 11.1075],\n",
       "        [10.4148,  8.8586,  2.7153],\n",
       "        [ 1.6129,  4.0964,  1.1934],\n",
       "        [10.2329,  2.1494, 10.2078],\n",
       "        [ 0.6116,  4.6406,  6.9353],\n",
       "        [ 0.7790,  4.4468, 10.9725],\n",
       "        [ 6.1519,  2.5186, 12.3265],\n",
       "        [ 6.7747,  3.2243,  4.2476],\n",
       "        [12.4549,  2.2519,  0.1821],\n",
       "        [ 7.8123,  3.4012, 10.2198],\n",
       "        [ 4.8605,  5.6242,  9.0621],\n",
       "        [11.0716,  0.6321,  1.9682],\n",
       "        [ 0.7677,  0.0887,  8.7768],\n",
       "        [ 4.5177,  1.7494,  2.0134],\n",
       "        [ 6.4047, 10.3068,  3.3282],\n",
       "        [ 2.8859, 11.1307,  3.8301],\n",
       "        [11.7004,  9.9046,  0.0408],\n",
       "        [ 0.9266,  1.6355,  5.2815],\n",
       "        [ 9.2973,  4.9976,  7.0032],\n",
       "        [ 6.0289,  6.2202,  3.5720],\n",
       "        [ 3.3735,  9.2934,  1.1588],\n",
       "        [ 6.7395,  2.6903,  8.4531],\n",
       "        [ 1.7166,  6.1236,  4.6763],\n",
       "        [ 8.2488, 10.4024,  1.1145],\n",
       "        [ 4.3705,  6.9446, 11.2797],\n",
       "        [ 3.9455,  0.9144,  0.1890],\n",
       "        [ 2.5967, 10.8863,  7.0125],\n",
       "        [ 6.0054,  8.0357,  9.7799],\n",
       "        [ 4.8252,  4.2533,  5.1530],\n",
       "        [ 2.1123,  6.4444,  7.1366],\n",
       "        [ 0.0502,  5.5374,  3.0502],\n",
       "        [ 5.3706, 11.9309,  6.1035],\n",
       "        [ 7.8835,  8.7767,  2.4656],\n",
       "        [ 1.8294,  7.0096,  1.1396],\n",
       "        [12.1976,  2.7333,  2.8423],\n",
       "        [ 9.2559,  6.6793,  7.8547],\n",
       "        [ 3.4305,  3.1562,  7.8996],\n",
       "        [ 7.4976,  5.8309,  9.2753],\n",
       "        [ 7.1125,  9.8832,  5.8624],\n",
       "        [ 8.9313,  3.6116,  0.5271],\n",
       "        [ 2.7531,  8.4132,  3.4470],\n",
       "        [ 6.6145,  5.6441, 11.3249],\n",
       "        [ 5.1859,  1.7895,  6.6404],\n",
       "        [ 0.4543,  7.7972,  6.4110],\n",
       "        [ 6.6393,  4.2376,  6.6491],\n",
       "        [ 0.3510,  0.5782,  2.5724],\n",
       "        [ 0.7203, 10.5182, 10.1886],\n",
       "        [ 3.7331,  3.5590,  0.7163],\n",
       "        [ 4.0323,  9.5569,  5.1796],\n",
       "        [ 8.9849, 10.9670,  9.3745],\n",
       "        [ 8.5289,  0.1298,  0.2306],\n",
       "        [ 9.9781,  7.1594, 10.0220],\n",
       "        [ 0.9890,  2.4931,  8.7917],\n",
       "        [12.2453,  6.4985,  9.2262],\n",
       "        [ 9.6734,  7.8450,  0.1726],\n",
       "        [ 7.2240, 11.7087,  8.2636],\n",
       "        [ 2.6470,  5.3130,  8.9436],\n",
       "        [ 0.1419,  8.5065,  3.7055],\n",
       "        [10.9966, 11.9703, 10.1093],\n",
       "        [ 4.8985,  1.2833,  9.9610],\n",
       "        [ 1.8639,  2.9953,  3.9679],\n",
       "        [11.0922,  9.2719,  9.9303],\n",
       "        [12.0692,  5.0265,  0.8392],\n",
       "        [12.0066,  1.8002,  7.1969],\n",
       "        [ 8.2362,  4.2218,  2.9374],\n",
       "        [ 2.9218, 12.2811,  5.5223],\n",
       "        [10.2617,  6.2827,  2.2856],\n",
       "        [ 8.6691,  2.2844,  3.8375],\n",
       "        [ 6.7678,  7.1892,  7.0468],\n",
       "        [ 3.5649,  6.1586,  2.3456],\n",
       "        [ 5.7218,  7.7701,  5.0540],\n",
       "        [ 4.2866,  2.0959,  4.7127],\n",
       "        [ 5.6307,  3.5541, 10.4397],\n",
       "        [ 2.9692,  5.2738, 11.7020],\n",
       "        [ 7.7500,  7.8554, 11.5090],\n",
       "        [ 6.4121, 12.4455, 12.1842],\n",
       "        [ 9.5758,  5.0786,  4.2487],\n",
       "        [ 3.4931,  9.9338,  9.4349],\n",
       "        [ 0.3944, 10.2856,  3.7359],\n",
       "        [ 1.7674,  9.0531,  8.4432],\n",
       "        [10.3509,  3.4187,  1.9077],\n",
       "        [ 0.7865, 10.1469,  1.7566],\n",
       "        [ 6.5994,  4.4653,  0.7346],\n",
       "        [10.4037,  1.6416,  0.3980],\n",
       "        [ 7.3896, 10.3664, 10.6118],\n",
       "        [ 9.2424,  9.9363, 11.8029],\n",
       "        [ 4.4059,  5.7432,  6.5516],\n",
       "        [10.6522,  4.8990,  9.7316],\n",
       "        [ 4.5910,  9.1560, 11.7918],\n",
       "        [ 9.0218,  0.0241,  2.4360],\n",
       "        [ 1.1996,  8.4790, 11.6639],\n",
       "        [12.3087,  1.1197, 10.7245],\n",
       "        [ 5.5447,  4.0590,  2.7542],\n",
       "        [ 1.1606, 12.2683, 12.1550],\n",
       "        [ 3.8424,  6.5793,  4.5327],\n",
       "        [ 9.4212,  2.9608,  8.2765],\n",
       "        [10.9935,  0.1904,  4.4420],\n",
       "        [10.7389,  3.9458, 11.7587],\n",
       "        [10.8639, 10.1130,  5.0647],\n",
       "        [ 4.6992, 11.6125, 10.1066],\n",
       "        [11.5388,  4.5291,  4.5870],\n",
       "        [ 6.2863,  7.5880,  0.3579],\n",
       "        [10.1666,  2.1718,  5.5055],\n",
       "        [ 6.6041,  9.8747,  0.4189],\n",
       "        [ 5.3732,  8.0513,  2.4692],\n",
       "        [12.1327,  6.6774, 11.7635],\n",
       "        [12.2498, 10.4447,  7.6542],\n",
       "        [ 2.4598,  8.6092,  5.8414],\n",
       "        [ 2.2895,  7.7639,  9.8608],\n",
       "        [11.5224,  6.2298,  6.8158],\n",
       "        [ 7.0619,  1.9565,  2.2176],\n",
       "        [ 5.5341,  9.9928,  8.2897],\n",
       "        [ 8.1768,  6.3171,  2.3847],\n",
       "        [ 2.4670,  1.7139,  7.1322],\n",
       "        [ 2.7211,  4.1616,  5.8757],\n",
       "        [11.0775,  8.2170,  7.9609],\n",
       "        [ 8.7613, 10.8980,  4.0714],\n",
       "        [ 2.5937, 11.8811,  1.3546],\n",
       "        [10.7600, 10.8960,  2.2588],\n",
       "        [ 9.6445,  9.9413,  7.6655],\n",
       "        [10.4565,  7.1519,  4.3854],\n",
       "        [ 0.2285, 12.3524,  6.1769],\n",
       "        [ 7.6247,  8.6838,  8.3138],\n",
       "        [ 8.9771,  5.6482, 12.2331],\n",
       "        [ 3.2268,  4.2574,  3.4958],\n",
       "        [10.4944,  0.1445,  7.7769],\n",
       "        [ 8.2207,  0.8987, 10.2639],\n",
       "        [ 2.9861,  1.2910,  3.4599],\n",
       "        [ 8.8163, 12.2104,  6.1924],\n",
       "        [ 4.2339,  0.0656,  7.8739],\n",
       "        [12.0780,  7.6052,  1.2087],\n",
       "        [ 2.7329,  0.4873, 10.2082],\n",
       "        [ 7.5341,  2.2096,  6.5657],\n",
       "        [ 7.9441,  6.3491,  5.2400],\n",
       "        [ 4.8321, 12.1194,  3.4288],\n",
       "        [ 8.9095,  8.0554,  6.1391],\n",
       "        [ 1.8810,  1.9945,  1.5060],\n",
       "        [ 4.1228,  8.0390,  7.8937],\n",
       "        [ 6.9083,  0.2853,  4.3580],\n",
       "        [ 2.4130, 10.4001, 11.8467],\n",
       "        [ 2.6034, 10.4382,  2.4501],\n",
       "        [ 5.0861,  1.3665,  8.3649],\n",
       "        [11.7770,  1.3244,  5.7723],\n",
       "        [ 5.9433,  7.0247, 11.2965],\n",
       "        [ 5.5841,  1.1816,  0.7681],\n",
       "        [ 2.8489,  5.5180,  0.8857],\n",
       "        [ 7.9603,  4.4994, 11.9118],\n",
       "        [ 6.0669,  2.9815,  5.8998],\n",
       "        [ 4.2719, 11.0880,  8.6508],\n",
       "        [11.5208,  2.3010,  1.6100],\n",
       "        [11.3149,  0.5359,  9.2153],\n",
       "        [ 3.4282, 12.2440, 11.5183],\n",
       "        [ 9.0632, 11.4561,  7.8900],\n",
       "        [ 0.7903, 12.2391, 10.5338],\n",
       "        [ 6.1290, 11.3315,  4.4715],\n",
       "        [ 2.6184, 10.1767,  5.3649],\n",
       "        [ 8.7803,  2.2541,  9.4321],\n",
       "        [12.1855,  8.3460, 11.8971],\n",
       "        [ 9.8065,  0.2315,  1.1735],\n",
       "        [ 7.5537, 11.1689, 12.2346],\n",
       "        [ 4.9848,  8.8381,  1.0732],\n",
       "        [ 3.0062,  6.5189, 10.1866],\n",
       "        [ 8.0976, 10.5188,  2.6398],\n",
       "        [ 7.8346,  0.9319,  3.1227],\n",
       "        [ 0.7522,  2.6265,  7.0180],\n",
       "        [ 4.1571,  3.1100,  2.9364],\n",
       "        [10.9419,  5.8511,  3.7229],\n",
       "        [ 0.8000, 10.5157,  0.2971],\n",
       "        [ 2.5923,  8.0482,  7.3840],\n",
       "        [ 3.0938,  2.3194,  0.2749],\n",
       "        [10.5939,  6.2154,  8.8062],\n",
       "        [ 0.5024,  6.2580,  7.1489],\n",
       "        [11.9501,  5.4388, 10.8923],\n",
       "        [ 1.9354,  0.7796,  2.4995],\n",
       "        [ 0.9971, 11.5565,  7.5107],\n",
       "        [ 9.5155,  8.2686,  7.4946],\n",
       "        [ 7.2044,  7.8784,  5.8771],\n",
       "        [ 3.4504,  4.9025,  7.4529],\n",
       "        [ 7.3334,  8.8487,  9.7335],\n",
       "        [ 1.3023,  7.6264,  4.8731],\n",
       "        [12.4201,  8.9095,  8.4601],\n",
       "        [ 4.4586,  5.3629,  3.5611],\n",
       "        [ 2.3534,  9.3514, 10.4802],\n",
       "        [ 9.9135, 11.4532,  5.1957],\n",
       "        [ 3.8747,  0.2510,  4.3685],\n",
       "        [ 9.7019,  6.0580,  5.6146],\n",
       "        [ 9.2445,  7.2731, 11.3261],\n",
       "        [ 6.8164,  7.4038,  2.1809],\n",
       "        [ 8.5017,  1.7125,  5.5667],\n",
       "        [ 6.4409, 10.4968,  7.2121],\n",
       "        [ 6.3317,  4.8992,  9.9053],\n",
       "        [ 7.1459,  3.7590,  1.9353],\n",
       "        [ 1.1910,  3.3528,  2.6605],\n",
       "        [ 2.0877,  3.6354, 10.1556],\n",
       "        [ 6.4804,  2.0397, 10.5922],\n",
       "        [10.3706,  4.7712,  0.9526],\n",
       "        [ 4.1498,  8.1535,  4.4784],\n",
       "        [11.3614,  2.1579, 11.6711],\n",
       "        [ 0.4275,  6.3185,  1.5149],\n",
       "        [11.8019, 11.9333,  3.0529],\n",
       "        [ 3.6136,  2.7499,  6.2224],\n",
       "        [12.0113,  9.2671,  2.3543],\n",
       "        [ 8.0042,  4.1352,  7.6892],\n",
       "        [ 5.5186, 10.4922, 11.3452],\n",
       "        [ 9.6075,  7.6975,  1.9731],\n",
       "        [ 5.4537,  6.6467,  7.8333],\n",
       "        [ 0.7988,  4.7110,  5.0850],\n",
       "        [ 0.1974, 10.3669,  5.6199],\n",
       "        [10.1336, 10.4328, 10.4569],\n",
       "        [ 7.5958,  5.4355,  3.8680]])"
      ]
     },
     "execution_count": 13,
     "metadata": {},
     "output_type": "execute_result"
    }
   ],
   "source": [
    "data.pos"
   ]
  },
  {
   "cell_type": "markdown",
   "metadata": {},
   "source": [
    "$$\n",
    "\\sum_i r_i F_i\n",
    "$$\n",
    "での定義で応力テンソルがどうなるか？"
   ]
  },
  {
   "cell_type": "code",
   "execution_count": 14,
   "metadata": {},
   "outputs": [
    {
     "data": {
      "text/plain": [
       "tensor([[-119.4649,   14.2531,   21.9955],\n",
       "        [  40.2708,   -7.7802,   46.7303],\n",
       "        [-122.1565,   -3.5128,   88.3783]], grad_fn=<ViewBackward0>)"
      ]
     },
     "execution_count": 14,
     "metadata": {},
     "output_type": "execute_result"
    }
   ],
   "source": [
    "torch.einsum('pi,pk->ik', data.pos, forces)"
   ]
  },
  {
   "cell_type": "markdown",
   "metadata": {},
   "source": [
    "周期境界条件とかをうまく反映できていない。Rijを使うモジュール内の定義のほうが妥当"
   ]
  },
  {
   "cell_type": "code",
   "execution_count": 15,
   "metadata": {},
   "outputs": [
    {
     "data": {
      "text/plain": [
       "1953.125000000001"
      ]
     },
     "execution_count": 15,
     "metadata": {},
     "output_type": "execute_result"
    }
   ],
   "source": [
    "volume=atoms.get_volume()\n",
    "volume"
   ]
  },
  {
   "cell_type": "code",
   "execution_count": 16,
   "metadata": {},
   "outputs": [
    {
     "data": {
      "text/plain": [
       "tensor([[-227.5833,  -34.3238,  -34.5412],\n",
       "        [ -34.3238, -215.1989,   -4.5484],\n",
       "        [ -34.5412,   -4.5484, -245.7276]], grad_fn=<MulBackward0>)"
      ]
     },
     "execution_count": 16,
     "metadata": {},
     "output_type": "execute_result"
    }
   ],
   "source": [
    "sigma/volume*1602"
   ]
  },
  {
   "cell_type": "markdown",
   "metadata": {},
   "source": [
    "Stressの学習なしで作ったモデルでStressがどれぐらいあっているかを試す"
   ]
  },
  {
   "cell_type": "markdown",
   "metadata": {},
   "source": [
    "VASP順: [xx, yy, zz, xy, yz, zx]"
   ]
  },
  {
   "cell_type": "code",
   "execution_count": 17,
   "metadata": {},
   "outputs": [],
   "source": [
    "from ase.io import iread\n",
    "dataset=iread('/home/emi/ML/simpleGNN/simplegnn/schnet_test/pressure_test/dataset_with_stress_energy_forces.extxyz', format='extxyz')\n",
    "\n"
   ]
  },
  {
   "cell_type": "code",
   "execution_count": 18,
   "metadata": {},
   "outputs": [
    {
     "name": "stdout",
     "output_type": "stream",
     "text": [
      "run_0\n",
      "run_1\n",
      "run_2\n",
      "run_3\n",
      "run_4\n",
      "run_5\n",
      "run_6\n",
      "run_7\n",
      "run_8\n",
      "run_9\n",
      "run_10\n",
      "run_11\n",
      "run_12\n",
      "run_13\n",
      "run_14\n",
      "run_15\n",
      "run_16\n",
      "run_17\n",
      "run_18\n",
      "run_19\n",
      "run_20\n",
      "run_21\n",
      "run_22\n",
      "run_23\n",
      "run_24\n",
      "run_25\n",
      "run_26\n",
      "run_27\n",
      "run_28\n",
      "run_29\n",
      "run_30\n",
      "run_31\n",
      "run_32\n",
      "run_33\n",
      "run_34\n",
      "run_35\n",
      "run_36\n",
      "run_37\n",
      "run_38\n",
      "run_39\n",
      "run_40\n",
      "run_41\n",
      "run_42\n",
      "run_43\n",
      "run_44\n",
      "run_45\n",
      "run_46\n",
      "run_47\n",
      "run_48\n",
      "run_49\n",
      "run_50\n",
      "run_51\n",
      "run_52\n",
      "run_53\n",
      "run_54\n",
      "run_55\n",
      "run_56\n",
      "run_57\n",
      "run_58\n",
      "run_59\n",
      "run_60\n",
      "run_61\n",
      "run_62\n",
      "run_63\n",
      "run_64\n",
      "run_65\n",
      "run_66\n",
      "run_67\n",
      "run_68\n",
      "run_69\n",
      "run_70\n",
      "run_71\n",
      "run_72\n",
      "run_73\n",
      "run_74\n",
      "run_75\n",
      "run_76\n",
      "run_77\n",
      "run_78\n",
      "run_79\n",
      "run_80\n",
      "run_81\n",
      "run_82\n",
      "run_83\n",
      "run_84\n",
      "run_85\n",
      "run_86\n",
      "run_87\n",
      "run_88\n",
      "run_89\n",
      "run_90\n",
      "run_91\n",
      "run_92\n",
      "run_93\n",
      "run_94\n",
      "run_95\n",
      "run_96\n",
      "run_97\n",
      "run_98\n",
      "run_99\n"
     ]
    }
   ],
   "source": [
    "energy_prediction=[]\n",
    "force_prediction=[]\n",
    "sigma_prediction=[]\n",
    "energy_true=[]\n",
    "force_true=[]\n",
    "sigma_true=[]\n",
    "for i, sample in enumerate(dataset):\n",
    "    print(sample.info['source_dir'])\n",
    "    volume=sample.get_volume()\n",
    "    energy_true.append(sample.get_potential_energy())\n",
    "    force_true.append(sample.get_forces())\n",
    "    sigma_true.append(sample.info['virial_eV_s6'])\n",
    "    data=converter(sample, cutoff)\n",
    "    energy, forces, sigma=model(data.x, data.edge_index, data.edge_weight)\n",
    "    energy_prediction.append(energy.item())\n",
    "    force_prediction.append(forces.detach().numpy())\n",
    "    sigma_prediction.append((sigma).detach().numpy())\n"
   ]
  },
  {
   "cell_type": "code",
   "execution_count": 19,
   "metadata": {},
   "outputs": [
    {
     "data": {
      "text/plain": [
       "array([[-966.2987  , -104.43933 ,  -26.272205],\n",
       "       [-104.43933 , -927.8224  ,   68.59645 ],\n",
       "       [ -26.272205,   68.59645 , -743.5426  ]], dtype=float32)"
      ]
     },
     "execution_count": 19,
     "metadata": {},
     "output_type": "execute_result"
    }
   ],
   "source": [
    "sigma_prediction[0]"
   ]
  },
  {
   "cell_type": "code",
   "execution_count": 20,
   "metadata": {},
   "outputs": [
    {
     "data": {
      "text/plain": [
       "array([842.4187 , 783.21333, 661.19142, 109.84022, -80.41969,  10.41788])"
      ]
     },
     "execution_count": 20,
     "metadata": {},
     "output_type": "execute_result"
    }
   ],
   "source": [
    "sigma_true[0]"
   ]
  },
  {
   "cell_type": "code",
   "execution_count": 21,
   "metadata": {},
   "outputs": [],
   "source": [
    "sigma_prediction=np.array(sigma_prediction)\n",
    "sigma_true=np.array(sigma_true)\n"
   ]
  },
  {
   "cell_type": "code",
   "execution_count": 22,
   "metadata": {},
   "outputs": [
    {
     "data": {
      "image/png": "[encoded data removed]",
      "text/plain": [
       "<Figure size 640x480 with 1 Axes>"
      ]
     },
     "metadata": {},
     "output_type": "display_data"
    }
   ],
   "source": [
    "sigma_xx_pred=sigma_prediction[:,0,0]\n",
    "sigma_xx_true=sigma_true[:,0]\n",
    "\n",
    "import matplotlib.pyplot as plt\n",
    "\n",
    "#VASP definition : pressure to cell, oppisite sign from stress tensor\n",
    "plt.gca().set_aspect('equal', adjustable='box')\n",
    "plt.scatter(sigma_xx_true, -sigma_xx_pred)\n",
    "plt.title('Virial xx (eV)')\n",
    "plt.tight_layout()\n",
    "plt.savefig('virial_xx.png', dpi=300)"
   ]
  },
  {
   "cell_type": "code",
   "execution_count": 23,
   "metadata": {},
   "outputs": [
    {
     "data": {
      "image/png": "[encoded data removed]",
      "text/plain": [
       "<Figure size 640x480 with 1 Axes>"
      ]
     },
     "metadata": {},
     "output_type": "display_data"
    }
   ],
   "source": [
    "sigma_xy_pred=sigma_prediction[:,0,1]\n",
    "sigma_xy_true=sigma_true[:,3]\n",
    "plt.gca().set_aspect('equal', adjustable='box')\n",
    "plt.scatter(sigma_xy_true, -sigma_xy_pred)\n",
    "plt.title('virial xy (eV)')\n",
    "plt.tight_layout()\n",
    "plt.savefig('virial_xy.png', dpi=300)\n"
   ]
  },
  {
   "cell_type": "code",
   "execution_count": 24,
   "metadata": {},
   "outputs": [
    {
     "data": {
      "image/png": "[encoded data removed]",
      "text/plain": [
       "<Figure size 640x480 with 1 Axes>"
      ]
     },
     "metadata": {},
     "output_type": "display_data"
    }
   ],
   "source": [
    "sigma_yy_pred=sigma_prediction[:,1,1]\n",
    "sigma_yy_true=sigma_true[:,1]\n",
    "plt.gca().set_aspect('equal', adjustable='box')\n",
    "plt.scatter(sigma_yy_true, -sigma_yy_pred)\n",
    "plt.title('virial yy (eV)')\n",
    "plt.tight_layout()\n",
    "plt.savefig('virial_yy.png', dpi=300)"
   ]
  },
  {
   "cell_type": "code",
   "execution_count": 25,
   "metadata": {},
   "outputs": [
    {
     "data": {
      "image/png": "[encoded data removed]",
      "text/plain": [
       "<Figure size 640x480 with 1 Axes>"
      ]
     },
     "metadata": {},
     "output_type": "display_data"
    }
   ],
   "source": [
    "sigma_zz_pred=sigma_prediction[:,2,2]\n",
    "sigma_zz_true=sigma_true[:,2]\n",
    "plt.gca().set_aspect('equal', adjustable='box')\n",
    "plt.scatter(sigma_zz_true, -sigma_zz_pred)\n",
    "plt.title('virial zz (eV)')\n",
    "plt.tight_layout()\n",
    "plt.savefig('virial_zz.png', dpi=300)\n"
   ]
  },
  {
   "cell_type": "code",
   "execution_count": 26,
   "metadata": {},
   "outputs": [
    {
     "data": {
      "image/png": "[encoded data removed]",
      "text/plain": [
       "<Figure size 640x480 with 1 Axes>"
      ]
     },
     "metadata": {},
     "output_type": "display_data"
    }
   ],
   "source": [
    "sigma_yz_pred=sigma_prediction[:,1,2]\n",
    "sigma_yz_true=sigma_true[:,4]\n",
    "plt.gca().set_aspect('equal', adjustable='box')\n",
    "plt.scatter(sigma_yz_true, -sigma_yz_pred)\n",
    "plt.title('virial yz (eV)')\n",
    "plt.tight_layout()\n",
    "plt.savefig('virial_yz.png', dpi=300)"
   ]
  },
  {
   "cell_type": "code",
   "execution_count": 27,
   "metadata": {},
   "outputs": [
    {
     "data": {
      "image/png": "[encoded data removed]",
      "text/plain": [
       "<Figure size 640x480 with 1 Axes>"
      ]
     },
     "metadata": {},
     "output_type": "display_data"
    }
   ],
   "source": [
    "sigma_zx_pred=sigma_prediction[:,2,0]\n",
    "sigma_zx_true=sigma_true[:,5]\n",
    "plt.gca().set_aspect('equal', adjustable='box')\n",
    "plt.scatter(sigma_zx_true, -sigma_zx_pred)\n",
    "plt.title('virial zx (eV)')\n",
    "plt.tight_layout()\n",
    "plt.savefig('virial_zx.png', dpi=300)"
   ]
  },
  {
   "cell_type": "markdown",
   "metadata": {},
   "source": [
    "力の予測ができている場合は、Virialもそれなりに強烈に違う値は出ていない→今の計算方法は大間違いということではなかろう"
   ]
  },
  {
   "cell_type": "markdown",
   "metadata": {},
   "source": [
    "Loss functionを設計するときは符号に注意"
   ]
  },
  {
   "cell_type": "code",
   "execution_count": 28,
   "metadata": {},
   "outputs": [
    {
     "data": {
      "image/png": "[encoded data removed]",
      "text/plain": [
       "<Figure size 640x480 with 1 Axes>"
      ]
     },
     "metadata": {},
     "output_type": "display_data"
    }
   ],
   "source": [
    "force_prediction=np.array(force_prediction)\n",
    "force_true=np.array(force_true)\n",
    "force_x_pred=force_prediction[:,:,0].flatten()\n",
    "force_x_true=force_true[:,:,0].flatten()\n",
    "plt.gca().set_aspect('equal', adjustable='box')\n",
    "plt.scatter(force_x_true, force_x_pred, s=1)\n",
    "plt.title('Force x (eV/Ang)')\n",
    "plt.tight_layout()\n",
    "plt.savefig('force_x.png', dpi=300)"
   ]
  },
  {
   "cell_type": "code",
   "execution_count": 29,
   "metadata": {},
   "outputs": [
    {
     "data": {
      "image/png": "[encoded data removed]",
      "text/plain": [
       "<Figure size 640x480 with 1 Axes>"
      ]
     },
     "metadata": {},
     "output_type": "display_data"
    }
   ],
   "source": [
    "energy_prediction=np.array(energy_prediction)\n",
    "energy_true=np.array(energy_true)\n",
    "plt.gca().set_aspect('equal', adjustable='box')\n",
    "plt.scatter(energy_true, energy_prediction, s=1)\n",
    "plt.title('Energy (eV)')\n",
    "plt.tight_layout()\n",
    "plt.savefig('energy.png', dpi=300)"
   ]
  },
  {
   "cell_type": "markdown",
   "metadata": {},
   "source": [
    "行列形式とs6形式の対応"
   ]
  },
  {
   "cell_type": "code",
   "execution_count": 30,
   "metadata": {},
   "outputs": [
    {
     "data": {
      "text/plain": [
       "Atoms(symbols='O140Si70', pbc=True, cell=[12.5, 12.5, 12.5], calculator=SinglePointCalculator(...))"
      ]
     },
     "execution_count": 30,
     "metadata": {},
     "output_type": "execute_result"
    }
   ],
   "source": [
    "atoms"
   ]
  },
  {
   "cell_type": "code",
   "execution_count": 31,
   "metadata": {},
   "outputs": [
    {
     "data": {
      "text/plain": [
       "array([169.67671, 158.47186, 197.66673,  59.82696,  12.6154 ,  55.60099])"
      ]
     },
     "execution_count": 31,
     "metadata": {},
     "output_type": "execute_result"
    }
   ],
   "source": [
    "atoms.info['virial_eV_s6']"
   ]
  },
  {
   "cell_type": "code",
   "execution_count": 32,
   "metadata": {},
   "outputs": [
    {
     "data": {
      "text/plain": [
       "array([[169.67671,  59.82696,  55.60099],\n",
       "       [ 59.82696, 158.47186,  12.6154 ],\n",
       "       [ 55.60099,  12.6154 , 197.66673]])"
      ]
     },
     "execution_count": 32,
     "metadata": {},
     "output_type": "execute_result"
    }
   ],
   "source": [
    "atoms.info['virial_eV_tensor']"
   ]
  }
 ],
 "metadata": {
  "kernelspec": {
   "display_name": "simplegnn",
   "language": "python",
   "name": "python3"
  },
  "language_info": {
   "codemirror_mode": {
    "name": "ipython",
    "version": 3
   },
   "file_extension": ".py",
   "mimetype": "text/x-python",
   "name": "python",
   "nbconvert_exporter": "python",
   "pygments_lexer": "ipython3",
   "version": "3.11.9"
  }
 },
 "nbformat": 4,
 "nbformat_minor": 2
}
